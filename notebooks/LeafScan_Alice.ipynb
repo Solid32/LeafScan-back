{
 "cells": [
  {
   "cell_type": "code",
   "execution_count": 2,
   "id": "0ad5425a",
   "metadata": {},
   "outputs": [],
   "source": [
    "import numpy as np\n",
    "import os\n",
    "import PIL\n",
    "import PIL.Image\n",
    "import tensorflow as tf\n",
    "import tensorflow_datasets as tfds"
   ]
  },
  {
   "cell_type": "code",
   "execution_count": 3,
   "id": "6d0940f4",
   "metadata": {},
   "outputs": [],
   "source": [
    "data_dir = '../raw_data'"
   ]
  },
  {
   "cell_type": "code",
   "execution_count": 5,
   "id": "f77b6877",
   "metadata": {},
   "outputs": [
    {
     "name": "stdout",
     "output_type": "stream",
     "text": [
      "Found 55448 files belonging to 39 classes.\n"
     ]
    }
   ],
   "source": [
    "ds = tf.keras.utils.image_dataset_from_directory(\n",
    "  data_dir)"
   ]
  },
  {
   "cell_type": "code",
   "execution_count": null,
   "id": "f2d28f72",
   "metadata": {},
   "outputs": [],
   "source": [
    "import matplotlib.pyplot as plt\n",
    "plt.figure(figsize=(10, 10))\n",
    "for images, labels in ds.take(2):\n",
    "    for i in range(9):\n",
    "        ax = plt.subplot(3, 3, i + 1)\n",
    "        plt.imshow(images[i].numpy().astype(\"uint8\"))\n",
    "        plt.title(ds.class_names[labels[i]])\n",
    "        plt.axis(\"off\")"
   ]
  },
  {
   "cell_type": "code",
   "execution_count": null,
   "id": "cba88fa8",
   "metadata": {},
   "outputs": [],
   "source": [
    "for image_batch, labels_batch in ds:\n",
    "  print(image_batch.shape)\n",
    "  print(labels_batch.shape)\n",
    "  break"
   ]
  },
  {
   "cell_type": "code",
   "execution_count": null,
   "id": "7ae7dedd",
   "metadata": {},
   "outputs": [],
   "source": [
    "classes = ds.class_names"
   ]
  },
  {
   "cell_type": "code",
   "execution_count": 26,
   "id": "0f827aa0",
   "metadata": {},
   "outputs": [
    {
     "data": {
      "text/plain": [
       "{'Apple___Apple_scab': 1,\n",
       " 'Apple___Black_rot': 2,\n",
       " 'Apple___Cedar_apple_rust': 3,\n",
       " 'Apple___healthy': 4,\n",
       " 'Background_without_leaves': 5,\n",
       " 'Blueberry___healthy': 6,\n",
       " 'Cherry___Powdery_mildew': 7,\n",
       " 'Cherry___healthy': 8,\n",
       " 'Corn___Cercospora_leaf_spot Gray_leaf_spot': 9,\n",
       " 'Corn___Common_rust': 10,\n",
       " 'Corn___Northern_Leaf_Blight': 11,\n",
       " 'Corn___healthy': 12,\n",
       " 'Grape___Black_rot': 13,\n",
       " 'Grape___Esca_(Black_Measles)': 14,\n",
       " 'Grape___Leaf_blight_(Isariopsis_Leaf_Spot)': 15,\n",
       " 'Grape___healthy': 16,\n",
       " 'Orange___Haunglongbing_(Citrus_greening)': 17,\n",
       " 'Peach___Bacterial_spot': 18,\n",
       " 'Peach___healthy': 19,\n",
       " 'Pepper,_bell___Bacterial_spot': 20,\n",
       " 'Pepper,_bell___healthy': 21,\n",
       " 'Potato___Early_blight': 22,\n",
       " 'Potato___Late_blight': 23,\n",
       " 'Potato___healthy': 24,\n",
       " 'Raspberry___healthy': 25,\n",
       " 'Soybean___healthy': 26,\n",
       " 'Squash___Powdery_mildew': 27,\n",
       " 'Strawberry___Leaf_scorch': 28,\n",
       " 'Strawberry___healthy': 29,\n",
       " 'Tomato___Bacterial_spot': 30,\n",
       " 'Tomato___Early_blight': 31,\n",
       " 'Tomato___Late_blight': 32,\n",
       " 'Tomato___Leaf_Mold': 33,\n",
       " 'Tomato___Septoria_leaf_spot': 34,\n",
       " 'Tomato___Spider_mites Two-spotted_spider_mite': 35,\n",
       " 'Tomato___Target_Spot': 36,\n",
       " 'Tomato___Tomato_Yellow_Leaf_Curl_Virus': 37,\n",
       " 'Tomato___Tomato_mosaic_virus': 38,\n",
       " 'Tomato___healthy': 39}"
      ]
     },
     "execution_count": 26,
     "metadata": {},
     "output_type": "execute_result"
    }
   ],
   "source": [
    "classes = ds.class_names\n",
    "numbers= np.arange(1,40,1)\n",
    "dict_leaves = {classes[i]: numbers[i] for i in range(len(classes))}\n",
    "dict_leaves"
   ]
  },
  {
   "cell_type": "code",
   "execution_count": null,
   "id": "a13e0a6b",
   "metadata": {},
   "outputs": [],
   "source": [
    "ds.element_spec"
   ]
  },
  {
   "cell_type": "code",
   "execution_count": null,
   "id": "6170d4d6",
   "metadata": {},
   "outputs": [],
   "source": [
    "# y= ds.class_names\n",
    "# X= "
   ]
  },
  {
   "cell_type": "code",
   "execution_count": null,
   "id": "9c9326ac",
   "metadata": {},
   "outputs": [],
   "source": [
    "sample = next(iter(ds))\n",
    "sample"
   ]
  },
  {
   "cell_type": "code",
   "execution_count": null,
   "id": "c1417931",
   "metadata": {},
   "outputs": [],
   "source": [
    "#tf.keras.layers.Rescaling(1./255)\n"
   ]
  },
  {
   "cell_type": "code",
   "execution_count": 33,
   "id": "d91ab4ea",
   "metadata": {},
   "outputs": [
    {
     "name": "stdout",
     "output_type": "stream",
     "text": [
      "Found 55448 files belonging to 39 classes.\n",
      "Using 44359 files for training.\n",
      "Using 11089 files for validation.\n"
     ]
    }
   ],
   "source": [
    "train_ds, val_ds = tf.keras.utils.image_dataset_from_directory(\n",
    "    data_dir,\n",
    "    labels='inferred',\n",
    "    #label_mode=None,\n",
    "    #class_names=\"class_names\",\n",
    "    color_mode='rgb',\n",
    "    batch_size=32,\n",
    "    image_size=(256, 256),\n",
    "    shuffle=True,\n",
    "    seed=123,\n",
    "    validation_split=0.2,\n",
    "    subset=\"both\")  "
   ]
  },
  {
   "cell_type": "code",
   "execution_count": null,
   "id": "0e4f311f",
   "metadata": {},
   "outputs": [],
   "source": [
    "# train_ds, val_ds = tf.keras.utils.image_dataset_from_directory(\n",
    "#     'temp',\n",
    "#     labels='inferred',\n",
    "#     #label_mode=None,\n",
    "#     #class_names=\"class_names\",\n",
    "#     color_mode='rgb',\n",
    "#     batch_size=32,\n",
    "#     image_size=(256, 256),\n",
    "#     shuffle=True,\n",
    "#     seed=123,\n",
    "#     validation_split=0.1,\n",
    "#     subset=\"both\") "
   ]
  },
  {
   "cell_type": "code",
   "execution_count": 34,
   "id": "9c26147f",
   "metadata": {},
   "outputs": [
    {
     "data": {
      "text/plain": [
       "39"
      ]
     },
     "execution_count": 34,
     "metadata": {},
     "output_type": "execute_result"
    }
   ],
   "source": [
    "len(ds.class_names)"
   ]
  },
  {
   "cell_type": "code",
   "execution_count": null,
   "id": "c1efc065",
   "metadata": {},
   "outputs": [],
   "source": [
    "# val_ds = tf.keras.utils.image_dataset_from_directory(\n",
    "#     data_dir,\n",
    "#     labels='inferred',\n",
    "#     color_mode='rgb',\n",
    "#     batch_size=32,\n",
    "#     image_size=(256, 256),\n",
    "#     shuffle=False,\n",
    "#     seed=123,\n",
    "#     validation_split=0.2,\n",
    "#     subset=\"validation\")"
   ]
  },
  {
   "cell_type": "code",
   "execution_count": 35,
   "id": "3448d252",
   "metadata": {},
   "outputs": [
    {
     "data": {
      "text/plain": [
       "<BatchDataset element_spec=(TensorSpec(shape=(None, 256, 256, 3), dtype=tf.float32, name=None), TensorSpec(shape=(None,), dtype=tf.int32, name=None))>"
      ]
     },
     "execution_count": 35,
     "metadata": {},
     "output_type": "execute_result"
    }
   ],
   "source": [
    "train_ds"
   ]
  },
  {
   "cell_type": "code",
   "execution_count": null,
   "id": "865dd86c",
   "metadata": {},
   "outputs": [],
   "source": [
    "# ds.as_numpy_iterator().next()"
   ]
  },
  {
   "cell_type": "code",
   "execution_count": null,
   "id": "d4512209",
   "metadata": {},
   "outputs": [],
   "source": [
    "# Split the dataset into training, test, and validation sets\n",
    "# temp = ds\n",
    "# test_dataset = tf.keras.utils.image_dataset_from_directory(\n",
    "#     data_dir,\n",
    "#     image_size=(256, 256),\n",
    "#     batch_size=32,\n",
    "#     validation_split=0.2,\n",
    "#     subset=\"validation\",\n",
    "#     seed=42\n",
    "# )\n",
    "\n",
    "/"
   ]
  },
  {
   "cell_type": "code",
   "execution_count": null,
   "id": "f2ce8ccc",
   "metadata": {},
   "outputs": [],
   "source": [
    "# train_to_numpy = list(train_dataset.as_numpy_iterator())\n",
    "# shape = tf.shape(dataset_to_numpy)\n",
    "# print(shape)"
   ]
  },
  {
   "cell_type": "code",
   "execution_count": 36,
   "id": "4f2283fd",
   "metadata": {},
   "outputs": [],
   "source": [
    "from tensorflow.keras import models, losses\n",
    "from tensorflow.keras import Sequential, layers\n",
    "from tensorflow.keras.models import Sequential\n",
    "from tensorflow.keras.layers import Dense, Flatten, Conv2D, Rescaling, RandomFlip, RandomRotation\n",
    "\n",
    "model = models.Sequential()\n",
    "\n",
    "model.add(layers.Rescaling(1./255))\n",
    "model.add(layers.RandomFlip(\"horizontal_and_vertical\"))\n",
    "model.add(layers.RandomRotation(0.2))\n",
    "model.add(layers.Conv2D(32, kernel_size=(3, 3), activation='relu', input_shape=(256, 256, 3)))\n",
    "model.add(layers.MaxPool2D(pool_size=(2,2))) \n",
    "model.add(layers.Conv2D(32, kernel_size=(3), activation='relu')) # kernel_size = 3 <==> (3, 3)\n",
    "model.add(layers.MaxPool2D(pool_size=(2,2))) \n",
    "model.add(layers.Flatten())\n",
    "model.add(layers.Dense(50, activation='relu'))\n",
    "model.add(layers.Dense(39, activation='softmax')) \n",
    "\n",
    "#model.summary() "
   ]
  },
  {
   "cell_type": "code",
   "execution_count": null,
   "id": "e3b5f495",
   "metadata": {},
   "outputs": [],
   "source": [
    "model.compile(loss=tf.keras.losses.SparseCategoricalCrossentropy(from_logits=False),\n",
    "              optimizer='adam',\n",
    "              metrics=['accuracy'])\n",
    "\n",
    "model.fit(train_ds,\n",
    "          validation_data=val_ds,\n",
    "          epochs=2,  # Use early stopping in practice\n",
    "          batch_size=32, \n",
    "          verbose=1)"
   ]
  },
  {
   "cell_type": "code",
   "execution_count": null,
   "id": "7bc1a585",
   "metadata": {},
   "outputs": [],
   "source": [
    "model.summary()"
   ]
  },
  {
   "cell_type": "code",
   "execution_count": 44,
   "id": "6fbcd668",
   "metadata": {},
   "outputs": [],
   "source": [
    "from tensorflow.keras.applications import vgg16\n",
    "from tensorflow.keras.models import Sequential\n",
    "from tensorflow.keras import layers\n",
    "\n",
    "\n",
    "# Loading the weights of a pre-trained ConvNet\n",
    "pretrained = vgg16.VGG16(weights='imagenet', \n",
    "                         include_top=False,\n",
    "                         input_shape=(256, 256, 3))\n",
    "\n",
    "pretrained.trainable = False\n",
    "# Optional, if you have time and want to re-train these weights, you can set it to True.\n",
    "\n",
    "# Flatten + Intermediate Dense Layer + Predictive Layer\n",
    "flatten_layer = layers.Flatten()\n",
    "dense_layer = layers.Dense(100, activation='relu')\n",
    "prediction_layer = layers.Dense(38, activation='softmax')\n",
    "\n",
    "model1 = Sequential([\n",
    "    pretrained, \n",
    "#     tf.keras.layers.Rescaling(1./255, input_shape=(256,256,3)),\n",
    "#     tf.keras.layers.RandomFlip(\"horizontal_and_vertical\"),\n",
    "#     tf.keras.layers.CenterCrop(height=224, width=224), \n",
    "#     tf.keras.layers.RandomRotation(0.2),\n",
    "#     tf.keras.layers.Conv2D(64, 4, activation='relu'),\n",
    "#     tf.keras.layers.MaxPooling2D(),\n",
    "#     tf.keras.layers.Conv2D(32, 3, activation='relu'),\n",
    "    tf.keras.layers.Flatten(),\n",
    "    tf.keras.layers.Dense(246, activation='relu'),\n",
    "    tf.keras.layers.Dropout(0.2),\n",
    "    tf.keras.layers.Dense(128, activation='relu'),\n",
    "    tf.keras.layers.Dropout(0.1),\n",
    "    tf.keras.layers.Dense(39, activation='softmax')\n",
    "])"
   ]
  },
  {
   "cell_type": "code",
   "execution_count": 45,
   "id": "8439034d",
   "metadata": {},
   "outputs": [
    {
     "name": "stdout",
     "output_type": "stream",
     "text": [
      "Model: \"sequential_6\"\n",
      "_________________________________________________________________\n",
      " Layer (type)                Output Shape              Param #   \n",
      "=================================================================\n",
      " vgg16 (Functional)          (None, 8, 8, 512)         14714688  \n",
      "                                                                 \n",
      " flatten_11 (Flatten)        (None, 32768)             0         \n",
      "                                                                 \n",
      " dense_26 (Dense)            (None, 246)               8061174   \n",
      "                                                                 \n",
      " dropout_8 (Dropout)         (None, 246)               0         \n",
      "                                                                 \n",
      " dense_27 (Dense)            (None, 128)               31616     \n",
      "                                                                 \n",
      " dropout_9 (Dropout)         (None, 128)               0         \n",
      "                                                                 \n",
      " dense_28 (Dense)            (None, 39)                5031      \n",
      "                                                                 \n",
      "=================================================================\n",
      "Total params: 22,812,509\n",
      "Trainable params: 8,097,821\n",
      "Non-trainable params: 14,714,688\n",
      "_________________________________________________________________\n"
     ]
    }
   ],
   "source": [
    "model1.summary()"
   ]
  },
  {
   "cell_type": "code",
   "execution_count": 46,
   "id": "fc8f56ef",
   "metadata": {},
   "outputs": [
    {
     "name": "stdout",
     "output_type": "stream",
     "text": [
      "   7/1387 [..............................] - ETA: 1:49:20 - loss: 27.8989 - accuracy: 0.0848"
     ]
    },
    {
     "ename": "KeyboardInterrupt",
     "evalue": "",
     "output_type": "error",
     "traceback": [
      "\u001b[0;31m---------------------------------------------------------------------------\u001b[0m",
      "\u001b[0;31mKeyboardInterrupt\u001b[0m                         Traceback (most recent call last)",
      "Cell \u001b[0;32mIn[46], line 5\u001b[0m\n\u001b[1;32m      1\u001b[0m model1\u001b[38;5;241m.\u001b[39mcompile(loss\u001b[38;5;241m=\u001b[39mtf\u001b[38;5;241m.\u001b[39mkeras\u001b[38;5;241m.\u001b[39mlosses\u001b[38;5;241m.\u001b[39mSparseCategoricalCrossentropy(from_logits\u001b[38;5;241m=\u001b[39m\u001b[38;5;28;01mFalse\u001b[39;00m),\n\u001b[1;32m      2\u001b[0m               optimizer\u001b[38;5;241m=\u001b[39m\u001b[38;5;124m'\u001b[39m\u001b[38;5;124madam\u001b[39m\u001b[38;5;124m'\u001b[39m,\n\u001b[1;32m      3\u001b[0m               metrics\u001b[38;5;241m=\u001b[39m[\u001b[38;5;124m'\u001b[39m\u001b[38;5;124maccuracy\u001b[39m\u001b[38;5;124m'\u001b[39m])\n\u001b[0;32m----> 5\u001b[0m \u001b[43mmodel1\u001b[49m\u001b[38;5;241;43m.\u001b[39;49m\u001b[43mfit\u001b[49m\u001b[43m(\u001b[49m\u001b[43mtrain_ds\u001b[49m\u001b[43m,\u001b[49m\n\u001b[1;32m      6\u001b[0m \u001b[43m          \u001b[49m\u001b[43mvalidation_data\u001b[49m\u001b[38;5;241;43m=\u001b[39;49m\u001b[43mval_ds\u001b[49m\u001b[43m,\u001b[49m\n\u001b[1;32m      7\u001b[0m \u001b[43m          \u001b[49m\u001b[43mepochs\u001b[49m\u001b[38;5;241;43m=\u001b[39;49m\u001b[38;5;241;43m1\u001b[39;49m\u001b[43m,\u001b[49m\u001b[43m  \u001b[49m\u001b[38;5;66;43;03m# Use early stopping in practice\u001b[39;49;00m\n\u001b[1;32m      8\u001b[0m \u001b[43m          \u001b[49m\u001b[43mbatch_size\u001b[49m\u001b[38;5;241;43m=\u001b[39;49m\u001b[38;5;241;43m32\u001b[39;49m\u001b[43m,\u001b[49m\u001b[43m \u001b[49m\n\u001b[1;32m      9\u001b[0m \u001b[43m          \u001b[49m\u001b[43mverbose\u001b[49m\u001b[38;5;241;43m=\u001b[39;49m\u001b[38;5;241;43m1\u001b[39;49m\u001b[43m)\u001b[49m\n",
      "File \u001b[0;32m~/.pyenv/versions/3.10.6/envs/LeafScan/lib/python3.10/site-packages/keras/utils/traceback_utils.py:65\u001b[0m, in \u001b[0;36mfilter_traceback.<locals>.error_handler\u001b[0;34m(*args, **kwargs)\u001b[0m\n\u001b[1;32m     63\u001b[0m filtered_tb \u001b[38;5;241m=\u001b[39m \u001b[38;5;28;01mNone\u001b[39;00m\n\u001b[1;32m     64\u001b[0m \u001b[38;5;28;01mtry\u001b[39;00m:\n\u001b[0;32m---> 65\u001b[0m     \u001b[38;5;28;01mreturn\u001b[39;00m \u001b[43mfn\u001b[49m\u001b[43m(\u001b[49m\u001b[38;5;241;43m*\u001b[39;49m\u001b[43margs\u001b[49m\u001b[43m,\u001b[49m\u001b[43m \u001b[49m\u001b[38;5;241;43m*\u001b[39;49m\u001b[38;5;241;43m*\u001b[39;49m\u001b[43mkwargs\u001b[49m\u001b[43m)\u001b[49m\n\u001b[1;32m     66\u001b[0m \u001b[38;5;28;01mexcept\u001b[39;00m \u001b[38;5;167;01mException\u001b[39;00m \u001b[38;5;28;01mas\u001b[39;00m e:\n\u001b[1;32m     67\u001b[0m     filtered_tb \u001b[38;5;241m=\u001b[39m _process_traceback_frames(e\u001b[38;5;241m.\u001b[39m__traceback__)\n",
      "File \u001b[0;32m~/.pyenv/versions/3.10.6/envs/LeafScan/lib/python3.10/site-packages/keras/engine/training.py:1564\u001b[0m, in \u001b[0;36mModel.fit\u001b[0;34m(self, x, y, batch_size, epochs, verbose, callbacks, validation_split, validation_data, shuffle, class_weight, sample_weight, initial_epoch, steps_per_epoch, validation_steps, validation_batch_size, validation_freq, max_queue_size, workers, use_multiprocessing)\u001b[0m\n\u001b[1;32m   1556\u001b[0m \u001b[38;5;28;01mwith\u001b[39;00m tf\u001b[38;5;241m.\u001b[39mprofiler\u001b[38;5;241m.\u001b[39mexperimental\u001b[38;5;241m.\u001b[39mTrace(\n\u001b[1;32m   1557\u001b[0m     \u001b[38;5;124m\"\u001b[39m\u001b[38;5;124mtrain\u001b[39m\u001b[38;5;124m\"\u001b[39m,\n\u001b[1;32m   1558\u001b[0m     epoch_num\u001b[38;5;241m=\u001b[39mepoch,\n\u001b[0;32m   (...)\u001b[0m\n\u001b[1;32m   1561\u001b[0m     _r\u001b[38;5;241m=\u001b[39m\u001b[38;5;241m1\u001b[39m,\n\u001b[1;32m   1562\u001b[0m ):\n\u001b[1;32m   1563\u001b[0m     callbacks\u001b[38;5;241m.\u001b[39mon_train_batch_begin(step)\n\u001b[0;32m-> 1564\u001b[0m     tmp_logs \u001b[38;5;241m=\u001b[39m \u001b[38;5;28;43mself\u001b[39;49m\u001b[38;5;241;43m.\u001b[39;49m\u001b[43mtrain_function\u001b[49m\u001b[43m(\u001b[49m\u001b[43miterator\u001b[49m\u001b[43m)\u001b[49m\n\u001b[1;32m   1565\u001b[0m     \u001b[38;5;28;01mif\u001b[39;00m data_handler\u001b[38;5;241m.\u001b[39mshould_sync:\n\u001b[1;32m   1566\u001b[0m         context\u001b[38;5;241m.\u001b[39masync_wait()\n",
      "File \u001b[0;32m~/.pyenv/versions/3.10.6/envs/LeafScan/lib/python3.10/site-packages/tensorflow/python/util/traceback_utils.py:150\u001b[0m, in \u001b[0;36mfilter_traceback.<locals>.error_handler\u001b[0;34m(*args, **kwargs)\u001b[0m\n\u001b[1;32m    148\u001b[0m filtered_tb \u001b[38;5;241m=\u001b[39m \u001b[38;5;28;01mNone\u001b[39;00m\n\u001b[1;32m    149\u001b[0m \u001b[38;5;28;01mtry\u001b[39;00m:\n\u001b[0;32m--> 150\u001b[0m   \u001b[38;5;28;01mreturn\u001b[39;00m \u001b[43mfn\u001b[49m\u001b[43m(\u001b[49m\u001b[38;5;241;43m*\u001b[39;49m\u001b[43margs\u001b[49m\u001b[43m,\u001b[49m\u001b[43m \u001b[49m\u001b[38;5;241;43m*\u001b[39;49m\u001b[38;5;241;43m*\u001b[39;49m\u001b[43mkwargs\u001b[49m\u001b[43m)\u001b[49m\n\u001b[1;32m    151\u001b[0m \u001b[38;5;28;01mexcept\u001b[39;00m \u001b[38;5;167;01mException\u001b[39;00m \u001b[38;5;28;01mas\u001b[39;00m e:\n\u001b[1;32m    152\u001b[0m   filtered_tb \u001b[38;5;241m=\u001b[39m _process_traceback_frames(e\u001b[38;5;241m.\u001b[39m__traceback__)\n",
      "File \u001b[0;32m~/.pyenv/versions/3.10.6/envs/LeafScan/lib/python3.10/site-packages/tensorflow/python/eager/def_function.py:915\u001b[0m, in \u001b[0;36mFunction.__call__\u001b[0;34m(self, *args, **kwds)\u001b[0m\n\u001b[1;32m    912\u001b[0m compiler \u001b[38;5;241m=\u001b[39m \u001b[38;5;124m\"\u001b[39m\u001b[38;5;124mxla\u001b[39m\u001b[38;5;124m\"\u001b[39m \u001b[38;5;28;01mif\u001b[39;00m \u001b[38;5;28mself\u001b[39m\u001b[38;5;241m.\u001b[39m_jit_compile \u001b[38;5;28;01melse\u001b[39;00m \u001b[38;5;124m\"\u001b[39m\u001b[38;5;124mnonXla\u001b[39m\u001b[38;5;124m\"\u001b[39m\n\u001b[1;32m    914\u001b[0m \u001b[38;5;28;01mwith\u001b[39;00m OptionalXlaContext(\u001b[38;5;28mself\u001b[39m\u001b[38;5;241m.\u001b[39m_jit_compile):\n\u001b[0;32m--> 915\u001b[0m   result \u001b[38;5;241m=\u001b[39m \u001b[38;5;28;43mself\u001b[39;49m\u001b[38;5;241;43m.\u001b[39;49m\u001b[43m_call\u001b[49m\u001b[43m(\u001b[49m\u001b[38;5;241;43m*\u001b[39;49m\u001b[43margs\u001b[49m\u001b[43m,\u001b[49m\u001b[43m \u001b[49m\u001b[38;5;241;43m*\u001b[39;49m\u001b[38;5;241;43m*\u001b[39;49m\u001b[43mkwds\u001b[49m\u001b[43m)\u001b[49m\n\u001b[1;32m    917\u001b[0m new_tracing_count \u001b[38;5;241m=\u001b[39m \u001b[38;5;28mself\u001b[39m\u001b[38;5;241m.\u001b[39mexperimental_get_tracing_count()\n\u001b[1;32m    918\u001b[0m without_tracing \u001b[38;5;241m=\u001b[39m (tracing_count \u001b[38;5;241m==\u001b[39m new_tracing_count)\n",
      "File \u001b[0;32m~/.pyenv/versions/3.10.6/envs/LeafScan/lib/python3.10/site-packages/tensorflow/python/eager/def_function.py:947\u001b[0m, in \u001b[0;36mFunction._call\u001b[0;34m(self, *args, **kwds)\u001b[0m\n\u001b[1;32m    944\u001b[0m   \u001b[38;5;28mself\u001b[39m\u001b[38;5;241m.\u001b[39m_lock\u001b[38;5;241m.\u001b[39mrelease()\n\u001b[1;32m    945\u001b[0m   \u001b[38;5;66;03m# In this case we have created variables on the first call, so we run the\u001b[39;00m\n\u001b[1;32m    946\u001b[0m   \u001b[38;5;66;03m# defunned version which is guaranteed to never create variables.\u001b[39;00m\n\u001b[0;32m--> 947\u001b[0m   \u001b[38;5;28;01mreturn\u001b[39;00m \u001b[38;5;28;43mself\u001b[39;49m\u001b[38;5;241;43m.\u001b[39;49m\u001b[43m_stateless_fn\u001b[49m\u001b[43m(\u001b[49m\u001b[38;5;241;43m*\u001b[39;49m\u001b[43margs\u001b[49m\u001b[43m,\u001b[49m\u001b[43m \u001b[49m\u001b[38;5;241;43m*\u001b[39;49m\u001b[38;5;241;43m*\u001b[39;49m\u001b[43mkwds\u001b[49m\u001b[43m)\u001b[49m  \u001b[38;5;66;03m# pylint: disable=not-callable\u001b[39;00m\n\u001b[1;32m    948\u001b[0m \u001b[38;5;28;01melif\u001b[39;00m \u001b[38;5;28mself\u001b[39m\u001b[38;5;241m.\u001b[39m_stateful_fn \u001b[38;5;129;01mis\u001b[39;00m \u001b[38;5;129;01mnot\u001b[39;00m \u001b[38;5;28;01mNone\u001b[39;00m:\n\u001b[1;32m    949\u001b[0m   \u001b[38;5;66;03m# Release the lock early so that multiple threads can perform the call\u001b[39;00m\n\u001b[1;32m    950\u001b[0m   \u001b[38;5;66;03m# in parallel.\u001b[39;00m\n\u001b[1;32m    951\u001b[0m   \u001b[38;5;28mself\u001b[39m\u001b[38;5;241m.\u001b[39m_lock\u001b[38;5;241m.\u001b[39mrelease()\n",
      "File \u001b[0;32m~/.pyenv/versions/3.10.6/envs/LeafScan/lib/python3.10/site-packages/tensorflow/python/eager/function.py:2496\u001b[0m, in \u001b[0;36mFunction.__call__\u001b[0;34m(self, *args, **kwargs)\u001b[0m\n\u001b[1;32m   2493\u001b[0m \u001b[38;5;28;01mwith\u001b[39;00m \u001b[38;5;28mself\u001b[39m\u001b[38;5;241m.\u001b[39m_lock:\n\u001b[1;32m   2494\u001b[0m   (graph_function,\n\u001b[1;32m   2495\u001b[0m    filtered_flat_args) \u001b[38;5;241m=\u001b[39m \u001b[38;5;28mself\u001b[39m\u001b[38;5;241m.\u001b[39m_maybe_define_function(args, kwargs)\n\u001b[0;32m-> 2496\u001b[0m \u001b[38;5;28;01mreturn\u001b[39;00m \u001b[43mgraph_function\u001b[49m\u001b[38;5;241;43m.\u001b[39;49m\u001b[43m_call_flat\u001b[49m\u001b[43m(\u001b[49m\n\u001b[1;32m   2497\u001b[0m \u001b[43m    \u001b[49m\u001b[43mfiltered_flat_args\u001b[49m\u001b[43m,\u001b[49m\u001b[43m \u001b[49m\u001b[43mcaptured_inputs\u001b[49m\u001b[38;5;241;43m=\u001b[39;49m\u001b[43mgraph_function\u001b[49m\u001b[38;5;241;43m.\u001b[39;49m\u001b[43mcaptured_inputs\u001b[49m\u001b[43m)\u001b[49m\n",
      "File \u001b[0;32m~/.pyenv/versions/3.10.6/envs/LeafScan/lib/python3.10/site-packages/tensorflow/python/eager/function.py:1862\u001b[0m, in \u001b[0;36mConcreteFunction._call_flat\u001b[0;34m(self, args, captured_inputs, cancellation_manager)\u001b[0m\n\u001b[1;32m   1858\u001b[0m possible_gradient_type \u001b[38;5;241m=\u001b[39m gradients_util\u001b[38;5;241m.\u001b[39mPossibleTapeGradientTypes(args)\n\u001b[1;32m   1859\u001b[0m \u001b[38;5;28;01mif\u001b[39;00m (possible_gradient_type \u001b[38;5;241m==\u001b[39m gradients_util\u001b[38;5;241m.\u001b[39mPOSSIBLE_GRADIENT_TYPES_NONE\n\u001b[1;32m   1860\u001b[0m     \u001b[38;5;129;01mand\u001b[39;00m executing_eagerly):\n\u001b[1;32m   1861\u001b[0m   \u001b[38;5;66;03m# No tape is watching; skip to running the function.\u001b[39;00m\n\u001b[0;32m-> 1862\u001b[0m   \u001b[38;5;28;01mreturn\u001b[39;00m \u001b[38;5;28mself\u001b[39m\u001b[38;5;241m.\u001b[39m_build_call_outputs(\u001b[38;5;28;43mself\u001b[39;49m\u001b[38;5;241;43m.\u001b[39;49m\u001b[43m_inference_function\u001b[49m\u001b[38;5;241;43m.\u001b[39;49m\u001b[43mcall\u001b[49m\u001b[43m(\u001b[49m\n\u001b[1;32m   1863\u001b[0m \u001b[43m      \u001b[49m\u001b[43mctx\u001b[49m\u001b[43m,\u001b[49m\u001b[43m \u001b[49m\u001b[43margs\u001b[49m\u001b[43m,\u001b[49m\u001b[43m \u001b[49m\u001b[43mcancellation_manager\u001b[49m\u001b[38;5;241;43m=\u001b[39;49m\u001b[43mcancellation_manager\u001b[49m\u001b[43m)\u001b[49m)\n\u001b[1;32m   1864\u001b[0m forward_backward \u001b[38;5;241m=\u001b[39m \u001b[38;5;28mself\u001b[39m\u001b[38;5;241m.\u001b[39m_select_forward_and_backward_functions(\n\u001b[1;32m   1865\u001b[0m     args,\n\u001b[1;32m   1866\u001b[0m     possible_gradient_type,\n\u001b[1;32m   1867\u001b[0m     executing_eagerly)\n\u001b[1;32m   1868\u001b[0m forward_function, args_with_tangents \u001b[38;5;241m=\u001b[39m forward_backward\u001b[38;5;241m.\u001b[39mforward()\n",
      "File \u001b[0;32m~/.pyenv/versions/3.10.6/envs/LeafScan/lib/python3.10/site-packages/tensorflow/python/eager/function.py:499\u001b[0m, in \u001b[0;36m_EagerDefinedFunction.call\u001b[0;34m(self, ctx, args, cancellation_manager)\u001b[0m\n\u001b[1;32m    497\u001b[0m \u001b[38;5;28;01mwith\u001b[39;00m _InterpolateFunctionError(\u001b[38;5;28mself\u001b[39m):\n\u001b[1;32m    498\u001b[0m   \u001b[38;5;28;01mif\u001b[39;00m cancellation_manager \u001b[38;5;129;01mis\u001b[39;00m \u001b[38;5;28;01mNone\u001b[39;00m:\n\u001b[0;32m--> 499\u001b[0m     outputs \u001b[38;5;241m=\u001b[39m \u001b[43mexecute\u001b[49m\u001b[38;5;241;43m.\u001b[39;49m\u001b[43mexecute\u001b[49m\u001b[43m(\u001b[49m\n\u001b[1;32m    500\u001b[0m \u001b[43m        \u001b[49m\u001b[38;5;28;43mstr\u001b[39;49m\u001b[43m(\u001b[49m\u001b[38;5;28;43mself\u001b[39;49m\u001b[38;5;241;43m.\u001b[39;49m\u001b[43msignature\u001b[49m\u001b[38;5;241;43m.\u001b[39;49m\u001b[43mname\u001b[49m\u001b[43m)\u001b[49m\u001b[43m,\u001b[49m\n\u001b[1;32m    501\u001b[0m \u001b[43m        \u001b[49m\u001b[43mnum_outputs\u001b[49m\u001b[38;5;241;43m=\u001b[39;49m\u001b[38;5;28;43mself\u001b[39;49m\u001b[38;5;241;43m.\u001b[39;49m\u001b[43m_num_outputs\u001b[49m\u001b[43m,\u001b[49m\n\u001b[1;32m    502\u001b[0m \u001b[43m        \u001b[49m\u001b[43minputs\u001b[49m\u001b[38;5;241;43m=\u001b[39;49m\u001b[43margs\u001b[49m\u001b[43m,\u001b[49m\n\u001b[1;32m    503\u001b[0m \u001b[43m        \u001b[49m\u001b[43mattrs\u001b[49m\u001b[38;5;241;43m=\u001b[39;49m\u001b[43mattrs\u001b[49m\u001b[43m,\u001b[49m\n\u001b[1;32m    504\u001b[0m \u001b[43m        \u001b[49m\u001b[43mctx\u001b[49m\u001b[38;5;241;43m=\u001b[39;49m\u001b[43mctx\u001b[49m\u001b[43m)\u001b[49m\n\u001b[1;32m    505\u001b[0m   \u001b[38;5;28;01melse\u001b[39;00m:\n\u001b[1;32m    506\u001b[0m     outputs \u001b[38;5;241m=\u001b[39m execute\u001b[38;5;241m.\u001b[39mexecute_with_cancellation(\n\u001b[1;32m    507\u001b[0m         \u001b[38;5;28mstr\u001b[39m(\u001b[38;5;28mself\u001b[39m\u001b[38;5;241m.\u001b[39msignature\u001b[38;5;241m.\u001b[39mname),\n\u001b[1;32m    508\u001b[0m         num_outputs\u001b[38;5;241m=\u001b[39m\u001b[38;5;28mself\u001b[39m\u001b[38;5;241m.\u001b[39m_num_outputs,\n\u001b[0;32m   (...)\u001b[0m\n\u001b[1;32m    511\u001b[0m         ctx\u001b[38;5;241m=\u001b[39mctx,\n\u001b[1;32m    512\u001b[0m         cancellation_manager\u001b[38;5;241m=\u001b[39mcancellation_manager)\n",
      "File \u001b[0;32m~/.pyenv/versions/3.10.6/envs/LeafScan/lib/python3.10/site-packages/tensorflow/python/eager/execute.py:54\u001b[0m, in \u001b[0;36mquick_execute\u001b[0;34m(op_name, num_outputs, inputs, attrs, ctx, name)\u001b[0m\n\u001b[1;32m     52\u001b[0m \u001b[38;5;28;01mtry\u001b[39;00m:\n\u001b[1;32m     53\u001b[0m   ctx\u001b[38;5;241m.\u001b[39mensure_initialized()\n\u001b[0;32m---> 54\u001b[0m   tensors \u001b[38;5;241m=\u001b[39m \u001b[43mpywrap_tfe\u001b[49m\u001b[38;5;241;43m.\u001b[39;49m\u001b[43mTFE_Py_Execute\u001b[49m\u001b[43m(\u001b[49m\u001b[43mctx\u001b[49m\u001b[38;5;241;43m.\u001b[39;49m\u001b[43m_handle\u001b[49m\u001b[43m,\u001b[49m\u001b[43m \u001b[49m\u001b[43mdevice_name\u001b[49m\u001b[43m,\u001b[49m\u001b[43m \u001b[49m\u001b[43mop_name\u001b[49m\u001b[43m,\u001b[49m\n\u001b[1;32m     55\u001b[0m \u001b[43m                                      \u001b[49m\u001b[43minputs\u001b[49m\u001b[43m,\u001b[49m\u001b[43m \u001b[49m\u001b[43mattrs\u001b[49m\u001b[43m,\u001b[49m\u001b[43m \u001b[49m\u001b[43mnum_outputs\u001b[49m\u001b[43m)\u001b[49m\n\u001b[1;32m     56\u001b[0m \u001b[38;5;28;01mexcept\u001b[39;00m core\u001b[38;5;241m.\u001b[39m_NotOkStatusException \u001b[38;5;28;01mas\u001b[39;00m e:\n\u001b[1;32m     57\u001b[0m   \u001b[38;5;28;01mif\u001b[39;00m name \u001b[38;5;129;01mis\u001b[39;00m \u001b[38;5;129;01mnot\u001b[39;00m \u001b[38;5;28;01mNone\u001b[39;00m:\n",
      "\u001b[0;31mKeyboardInterrupt\u001b[0m: "
     ]
    }
   ],
   "source": [
    "model1.compile(loss=tf.keras.losses.SparseCategoricalCrossentropy(from_logits=False),\n",
    "              optimizer='adam',\n",
    "              metrics=['accuracy'])\n",
    "\n",
    "model1.fit(train_ds,\n",
    "          validation_data=val_ds,\n",
    "          epochs=1,  # Use early stopping in practice\n",
    "          batch_size=32, \n",
    "          verbose=1)"
   ]
  },
  {
   "cell_type": "code",
   "execution_count": null,
   "id": "577a7dee",
   "metadata": {},
   "outputs": [],
   "source": []
  },
  {
   "cell_type": "code",
   "execution_count": null,
   "id": "807b3900",
   "metadata": {},
   "outputs": [],
   "source": []
  },
  {
   "cell_type": "code",
   "execution_count": null,
   "id": "b51c9ec8",
   "metadata": {},
   "outputs": [],
   "source": []
  },
  {
   "cell_type": "code",
   "execution_count": 15,
   "id": "01f78be1",
   "metadata": {},
   "outputs": [
    {
     "name": "stdout",
     "output_type": "stream",
     "text": [
      "/home/alice/code/Solid32/LeafScan-back/notebooks\n"
     ]
    }
   ],
   "source": [
    "import os\n",
    "print(os.getcwd())"
   ]
  },
  {
   "cell_type": "code",
   "execution_count": 61,
   "id": "fea1498c",
   "metadata": {},
   "outputs": [
    {
     "data": {
      "text/plain": [
       "{'plant_name': 'Apple', 'disease_name': ' Cedar apple rust'}"
      ]
     },
     "execution_count": 61,
     "metadata": {},
     "output_type": "execute_result"
    }
   ],
   "source": [
    "import csv\n",
    "result={}\n",
    "\n",
    "# #Load the CSV file\n",
    "# with open('../leafscan/diseases.csv', 'r') as data:\n",
    "#     for line in csv.DictReader(data):\n",
    "#         print(line)\n",
    "\n",
    "\n",
    "\n",
    "def disease_info(disease_name):\n",
    "    '''\n",
    "    return corresponding data for a given disease\n",
    "    '''\n",
    "    result['plant_name'] = disease_name.split(\"__\")[0]\n",
    "    result['disease_name'] = disease_name.split(\"__\")[1].replace(\"_\", \" \")\n",
    "    return result\n",
    "\n",
    "disease_name = 'Apple___Cedar_apple_rust'\n",
    "disease_info(disease_name)"
   ]
  },
  {
   "cell_type": "code",
   "execution_count": 64,
   "id": "e8a0476f",
   "metadata": {},
   "outputs": [
    {
     "data": {
      "text/plain": [
       "{'Apple___Cedar_apple_rust': None}"
      ]
     },
     "execution_count": 64,
     "metadata": {},
     "output_type": "execute_result"
    }
   ],
   "source": [
    "def create_dictionary_from_csv(csv_file):\n",
    "    dictionary = {}\n",
    "    with open(csv_file, 'r') as file:\n",
    "        reader = csv.DictReader(file)\n",
    "        for row in reader:\n",
    "            # Assumant que la première colonne contient les clés et la deuxième colonne les valeurs\n",
    "            key = disease_name\n",
    "            value = url\n",
    "            dictionary[key] = value\n",
    "    return dictionary\n",
    "\n",
    "csv_file = '../leafscan/diseases.csv'\n",
    "create_dictionary_from_csv(csv_file)"
   ]
  },
  {
   "cell_type": "code",
   "execution_count": 66,
   "id": "aae9bd75",
   "metadata": {},
   "outputs": [
    {
     "data": {
      "text/plain": [
       "{'Apple___Apple_scab ': ' https://www.planetnatural.com/pest-problem-solver/plant-disease/apple-scab/',\n",
       " 'Apple___Black_rot ': ' https://extension.umn.edu/plant-diseases/black-rot-apple',\n",
       " 'Apple___Cedar_apple_rust ': ' https://gardenerspath.com/how-to/disease-and-pests/cedar-apple-rust-control/',\n",
       " 'Apple___healthy ': '',\n",
       " 'Background_without_leaves ': '',\n",
       " 'Blueberry___healthy ': '',\n",
       " 'Cherry___Powdery_mildew ': ' https://treefruit.wsu.edu/crop-protection/disease-management/cherry-powdery-mildew/',\n",
       " 'Cherry___healthy': '',\n",
       " \"'Corn___Cercospora_leaf_spot Gray_leaf_spot' \": ' https://en.wikipedia.org/wiki/Corn_grey_leaf_spot',\n",
       " 'Corn___Common_rust ': 'https://extension.umn.edu/corn-pest-management/common-rust-corn#:~:text=Common%20rust%20produces%20rust%2Dcolored,as%20sheaths%2C%20can%20be%20infected.',\n",
       " 'Corn___Northern_Leaf_Blight ': ' https://extension.umn.edu/corn-pest-management/northern-corn-leaf-blight',\n",
       " 'Grape___Black_rot ': 'https://ohioline.osu.edu/factsheet/plpath-fru-24',\n",
       " \"'Grape___Esca_(Black_Measles)' \": ' https://ipm.ucanr.edu/agriculture/grape/esca-black-measles/',\n",
       " \"'Grape___Leaf_blight_(Isariopsis_Leaf_Spot)' \": ' https://plantvillage.psu.edu/topics/grape/infos',\n",
       " 'Grape___healthy ': '',\n",
       " \"'Orange___Haunglongbing_(Citrus_greening)' \": ' https://en.wikipedia.org/wiki/Citrus_greening_disease',\n",
       " 'Peach___Bacterial_spot ': ' https://www.canr.msu.edu/news/management_of_bacterial_spot_on_peaches_and_nectarines',\n",
       " 'Peach___healthy ': '',\n",
       " 'Pepper,_bell___Bacterial_spot ': ' https://extension.wvu.edu/lawn-gardening-pests/plant-disease/fruit-vegetable-diseases/bacterial-leaf-spot-of-pepper',\n",
       " 'Pepper,_bell___healthy ': '',\n",
       " 'Potato___Early_blight': ' https://www.gardeningknowhow.com/edible/vegetables/potato/potato-early-blight-treatment.htm#:~:text=Early%20blight%20of%20potato%20is,members%20of%20the%20potato%20family.',\n",
       " 'Potato___Late_blight': ' https://www.planetnatural.com/pest-problem-solver/plant-disease/late-blight/',\n",
       " 'Potato___healthy ': '',\n",
       " 'Raspberry___healthy ': '',\n",
       " 'Soybean___healthy ': '',\n",
       " 'Squash___Powdery_mildew ': ' https://www.gardeningknowhow.com/edible/vegetables/squash/powdery-mildew-in-squash.htm',\n",
       " 'Strawberry___Leaf_scorch ': ' https://www.gardeningknowhow.com/edible/fruits/strawberry/strawberries-with-leaf-scorch.htm',\n",
       " 'Strawberry___healthy ': '',\n",
       " 'Tomato___Bacterial_spot ': ' https://extension.umn.edu/disease-management/bacterial-spot-tomato-and-pepper',\n",
       " 'Tomato___Early_blight ': ' https://extension.umn.edu/disease-management/early-blight-tomato-and-potato',\n",
       " 'Tomato___Late_blight ': ' https://www.planetnatural.com/pest-problem-solver/plant-disease/late-blight/',\n",
       " 'Tomato___Leaf_Mold ': ' https://en.wikipedia.org/wiki/Tomato_leaf_mold',\n",
       " 'Tomato___Septoria_leaf_spot': ' https://www.thespruce.com/identifying-and-controlling-septoria-leaf-spot-of-tomato-1402974',\n",
       " \"'Tomato___Spider_mites Two-spotted_spider_mite' \": ' https://ag.umass.edu/vegetable/fact-sheets/two-spotted-spider-mite#:~:text=The%20two%2Dspotted%20spider%20mite,most%20important%20pests%20of%20eggplant.',\n",
       " 'Tomato___Target_Spot ': ' https://www.vegetables.bayer.com/ca/en-ca/resources/agronomic-spotlights/target-spot-of-tomato.html#:~:text=Target%20spot%20of%20tomato%20is,in%20Immokalee%2C%20Florida%20in%201967.',\n",
       " 'Tomato___Tomato_Yellow_Leaf_Curl_Virus ': ' https://en.wikipedia.org/wiki/Tomato_yellow_leaf_curl_virus',\n",
       " 'Tomato___Tomato_mosaic_virus ': ' https://en.wikipedia.org/wiki/Tomato_mosaic_virus',\n",
       " 'Tomato___healthy ': ''}"
      ]
     },
     "execution_count": 66,
     "metadata": {},
     "output_type": "execute_result"
    }
   ],
   "source": [
    "def create_dictionary_from_csv(csv_file):\n",
    "    dictionary = {}\n",
    "    with open(csv_file, 'r') as file:\n",
    "        reader = csv.DictReader(file, delimiter=';')\n",
    "        for row in reader:\n",
    "            key = row['disease_name']\n",
    "            value = row['url']\n",
    "            dictionary[key] = value\n",
    "    return dictionary\n",
    "\n",
    "csv_file = '../leafscan/diseases.csv'\n",
    "my_dictionary = create_dictionary_from_csv(csv_file)\n",
    "\n",
    "my_dictionary"
   ]
  },
  {
   "cell_type": "code",
   "execution_count": 2,
   "id": "7d55003e",
   "metadata": {
    "scrolled": true
   },
   "outputs": [
    {
     "name": "stdout",
     "output_type": "stream",
     "text": [
      "{'plant_name': 'Apple', 'disease_name': ' Cedar apple rust', 'url': 'https://gardenerspath.com/how-to/disease-and-pests/cedar-apple-rust-control/'}\n"
     ]
    }
   ],
   "source": [
    "import csv\n",
    "result={}\n",
    "\n",
    "#Load the CSV file\n",
    "with open('../leafscan/diseases.txt', 'r') as data:\n",
    "    csvreader = csv.reader(data, delimiter=';')\n",
    "    d = {rows[0].strip():rows[1].strip() for rows in csvreader}\n",
    "\n",
    "def disease_info(disease_name):\n",
    "    '''\n",
    "    return corresponding data for a given disease\n",
    "    '''\n",
    "    result['plant_name'] = disease_name.split(\"__\")[0]\n",
    "    result['disease_name'] = disease_name.split(\"__\")[1].replace(\"_\", \" \")\n",
    "    result['url']=d[disease_name.strip()]\n",
    "    return result\n",
    "\n",
    "print(disease_info('Apple___Cedar_apple_rust'))"
   ]
  },
  {
   "cell_type": "code",
   "execution_count": null,
   "id": "5134265c",
   "metadata": {},
   "outputs": [],
   "source": []
  }
 ],
 "metadata": {
  "kernelspec": {
   "display_name": "Python 3 (ipykernel)",
   "language": "python",
   "name": "python3"
  },
  "language_info": {
   "codemirror_mode": {
    "name": "ipython",
    "version": 3
   },
   "file_extension": ".py",
   "mimetype": "text/x-python",
   "name": "python",
   "nbconvert_exporter": "python",
   "pygments_lexer": "ipython3",
   "version": "3.10.6"
  },
  "toc": {
   "base_numbering": 1,
   "nav_menu": {},
   "number_sections": true,
   "sideBar": true,
   "skip_h1_title": false,
   "title_cell": "Table of Contents",
   "title_sidebar": "Contents",
   "toc_cell": false,
   "toc_position": {},
   "toc_section_display": true,
   "toc_window_display": false
  }
 },
 "nbformat": 4,
 "nbformat_minor": 5
}
