{
  "cells": [
    {
      "cell_type": "code",
      "execution_count": 249,
      "id": "8187cd39",
      "metadata": {
        "id": "8187cd39"
      },
      "outputs": [],
      "source": [
        "import numpy as np\n",
        "import os\n",
        "import PIL\n",
        "import PIL.Image\n",
        "import tensorflow as tf\n",
        "import tensorflow_datasets as tfds\n",
        "\n"
      ]
    },
    {
      "cell_type": "code",
      "execution_count": 250,
      "id": "20459205",
      "metadata": {
        "id": "20459205"
      },
      "outputs": [],
      "source": [
        "import matplotlib.pyplot as plt\n",
        "import pandas as pd\n"
      ]
    },
    {
      "cell_type": "code",
      "execution_count": 263,
      "id": "713e4177",
      "metadata": {
        "id": "713e4177"
      },
      "outputs": [],
      "source": [
        "#comment data_dir first time you use this cell\n",
        "data_dir = '~/tensorflow_datasets'\n",
        "\n",
        "(train_ds, val_ds, test_ds), metadata = tfds.load(\n",
        "    'plant_village',\n",
        "    split=['train[:80%]', 'train[80%:90%]', 'train[90%:]'],\n",
        "    with_info=True,\n",
        "    as_supervised=True,\n",
        "    data_dir=data_dir\n",
        ")"
      ]
    },
    {
      "cell_type": "code",
      "execution_count": 253,
      "id": "f9097df5",
      "metadata": {
        "colab": {
          "base_uri": "https://localhost:8080/"
        },
        "id": "f9097df5",
        "outputId": "0feb3d55-4bb4-4563-a9da-13748d30b088"
      },
      "outputs": [
        {
          "output_type": "stream",
          "name": "stdout",
          "text": [
            "(256, 256, 3)\n"
          ]
        }
      ],
      "source": [
        "for image, labels in train_ds.take(1): \n",
        "  print(image.shape)"
      ]
    },
    {
      "cell_type": "code",
      "execution_count": 254,
      "id": "6bddbb55",
      "metadata": {
        "id": "6bddbb55"
      },
      "outputs": [],
      "source": [
        "num_classes = metadata.features['label'].num_classes"
      ]
    },
    {
      "cell_type": "code",
      "execution_count": 261,
      "id": "27978eb7",
      "metadata": {
        "id": "27978eb7"
      },
      "outputs": [],
      "source": [
        "\n",
        "#def preprocess_data(image, label):\n",
        "#  label = tf.one_hot(label, num_classes)\n",
        "#  return image, label\n",
        "\n",
        "#train_ds = train_ds.map(preprocess_data)\n",
        "#val_ds = val_ds.map(preprocess_data)\n",
        "#test_ds = test_ds.map(preprocess_data)\n",
        "\n"
      ]
    },
    {
      "cell_type": "code",
      "execution_count": 255,
      "id": "ea26f291",
      "metadata": {
        "id": "ea26f291"
      },
      "outputs": [],
      "source": [
        "train_ds = train_ds.batch(32)\n",
        "\n",
        "val_ds = val_ds.batch(32)\n"
      ]
    },
    {
      "cell_type": "code",
      "source": [
        "test_ds = test_ds.batch(32)"
      ],
      "metadata": {
        "id": "B1PaHF2zHlC8"
      },
      "id": "B1PaHF2zHlC8",
      "execution_count": 264,
      "outputs": []
    },
    {
      "cell_type": "code",
      "execution_count": null,
      "id": "6646bbbf",
      "metadata": {
        "colab": {
          "base_uri": "https://localhost:8080/"
        },
        "id": "6646bbbf",
        "outputId": "14c9c098-8755-4470-cfad-3d67f92a80fa"
      },
      "outputs": [
        {
          "output_type": "execute_result",
          "data": {
            "text/plain": [
              "(None, None, 3)"
            ]
          },
          "metadata": {},
          "execution_count": 232
        }
      ],
      "source": [
        "metadata.features['image'].shape "
      ]
    },
    {
      "cell_type": "code",
      "execution_count": null,
      "id": "0ab2bb62",
      "metadata": {
        "id": "0ab2bb62"
      },
      "outputs": [],
      "source": [
        "input_shape = metadata.features['image'].shape\n"
      ]
    },
    {
      "cell_type": "code",
      "execution_count": 257,
      "id": "1b433662",
      "metadata": {
        "id": "1b433662"
      },
      "outputs": [],
      "source": [
        "\n",
        "model = tf.keras.Sequential([\n",
        "  tf.keras.layers.Rescaling(1./255, input_shape=(256,256,3)),\n",
        "  tf.keras.layers.RandomFlip(\"horizontal_and_vertical\"),\n",
        "  tf.keras.layers.RandomRotation(0.2),\n",
        "  tf.keras.layers.Conv2D(32, 3, activation='relu'),\n",
        "  tf.keras.layers.MaxPooling2D(),\n",
        "  tf.keras.layers.Conv2D(32, 3, activation='relu'),\n",
        "  tf.keras.layers.Dropout(0.1),\n",
        "  tf.keras.layers.Conv2D(32, 3, activation='relu'),\n",
        "  tf.keras.layers.Dropout(0.1),\n",
        "  tf.keras.layers.Flatten(),\n",
        "  tf.keras.layers.Dense(128, activation='relu'),\n",
        "  tf.keras.layers.Dropout(0.1),\n",
        "  tf.keras.layers.Dense(64, activation='relu'),\n",
        "  tf.keras.layers.Dropout(0.1),\n",
        "  tf.keras.layers.Dense(38, activation='softmax')\n",
        "])"
      ]
    },
    {
      "cell_type": "code",
      "source": [
        "model"
      ],
      "metadata": {
        "colab": {
          "base_uri": "https://localhost:8080/"
        },
        "id": "XZieNcrY4ILb",
        "outputId": "4a1a559c-bb9f-4deb-bbcb-2b6e90bcfbe2"
      },
      "id": "XZieNcrY4ILb",
      "execution_count": 258,
      "outputs": [
        {
          "output_type": "execute_result",
          "data": {
            "text/plain": [
              "<keras.engine.sequential.Sequential at 0x7f85c7037400>"
            ]
          },
          "metadata": {},
          "execution_count": 258
        }
      ]
    },
    {
      "cell_type": "code",
      "execution_count": 259,
      "id": "4971faa3",
      "metadata": {
        "id": "4971faa3"
      },
      "outputs": [],
      "source": [
        "\n",
        "model.compile(optimizer='adam',\n",
        "              loss=tf.keras.losses.SparseCategoricalCrossentropy(from_logits=True),\n",
        "              metrics=['accuracy'])"
      ]
    },
    {
      "cell_type": "code",
      "execution_count": 260,
      "id": "b0fa8769",
      "metadata": {
        "colab": {
          "base_uri": "https://localhost:8080/"
        },
        "id": "b0fa8769",
        "outputId": "214e4bc5-1675-4e27-d3f9-1d13a750df2e"
      },
      "outputs": [
        {
          "output_type": "stream",
          "name": "stdout",
          "text": [
            "Epoch 1/5\n"
          ]
        },
        {
          "output_type": "stream",
          "name": "stderr",
          "text": [
            "/usr/local/lib/python3.10/dist-packages/keras/backend.py:5612: UserWarning: \"`sparse_categorical_crossentropy` received `from_logits=True`, but the `output` argument was produced by a Softmax activation and thus does not represent logits. Was this intended?\n",
            "  output, from_logits = _get_logits(\n"
          ]
        },
        {
          "output_type": "stream",
          "name": "stdout",
          "text": [
            "1358/1358 [==============================] - 159s 114ms/step - loss: 1.8191 - accuracy: 0.4959 - val_loss: 2.0677 - val_accuracy: 0.4721\n",
            "Epoch 2/5\n",
            "1358/1358 [==============================] - 150s 111ms/step - loss: 1.1001 - accuracy: 0.6671 - val_loss: 1.2437 - val_accuracy: 0.6548\n",
            "Epoch 3/5\n",
            "1358/1358 [==============================] - 151s 111ms/step - loss: 0.9088 - accuracy: 0.7244 - val_loss: 1.1145 - val_accuracy: 0.6791\n",
            "Epoch 4/5\n",
            "1358/1358 [==============================] - 152s 112ms/step - loss: 0.8107 - accuracy: 0.7527 - val_loss: 0.8423 - val_accuracy: 0.7564\n",
            "Epoch 5/5\n",
            "1358/1358 [==============================] - 152s 112ms/step - loss: 0.7410 - accuracy: 0.7681 - val_loss: 0.7296 - val_accuracy: 0.7779\n"
          ]
        },
        {
          "output_type": "execute_result",
          "data": {
            "text/plain": [
              "<keras.callbacks.History at 0x7f85c590b580>"
            ]
          },
          "metadata": {},
          "execution_count": 260
        }
      ],
      "source": [
        "model.fit(train_ds,\n",
        "          validation_data=val_ds,\n",
        "          epochs=5)"
      ]
    },
    {
      "cell_type": "code",
      "execution_count": 265,
      "id": "ea37b963",
      "metadata": {
        "colab": {
          "base_uri": "https://localhost:8080/"
        },
        "id": "ea37b963",
        "outputId": "dad207ef-39b7-49c0-ad8c-6545e1811303"
      },
      "outputs": [
        {
          "output_type": "stream",
          "name": "stdout",
          "text": [
            "170/170 [==============================] - 4s 24ms/step - loss: 0.6729 - accuracy: 0.7910\n"
          ]
        },
        {
          "output_type": "execute_result",
          "data": {
            "text/plain": [
              "[0.6728978157043457, 0.7909760475158691]"
            ]
          },
          "metadata": {},
          "execution_count": 265
        }
      ],
      "source": [
        "model.evaluate(test_ds)"
      ]
    },
    {
      "cell_type": "code",
      "source": [],
      "metadata": {
        "id": "v3xksq9TH-ia"
      },
      "id": "v3xksq9TH-ia",
      "execution_count": null,
      "outputs": []
    }
  ],
  "metadata": {
    "kernelspec": {
      "display_name": "Python 3",
      "name": "python3"
    },
    "language_info": {
      "codemirror_mode": {
        "name": "ipython",
        "version": 3
      },
      "file_extension": ".py",
      "mimetype": "text/x-python",
      "name": "python",
      "nbconvert_exporter": "python",
      "pygments_lexer": "ipython3",
      "version": "3.10.6"
    },
    "toc": {
      "base_numbering": 1,
      "nav_menu": {},
      "number_sections": true,
      "sideBar": true,
      "skip_h1_title": false,
      "title_cell": "Table of Contents",
      "title_sidebar": "Contents",
      "toc_cell": false,
      "toc_position": {},
      "toc_section_display": true,
      "toc_window_display": false
    },
    "colab": {
      "provenance": [],
      "gpuType": "T4"
    },
    "accelerator": "GPU"
  },
  "nbformat": 4,
  "nbformat_minor": 5
}